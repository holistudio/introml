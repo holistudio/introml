{
 "cells": [
  {
   "cell_type": "markdown",
   "metadata": {},
   "source": [
    "# Demo:  House Price Feature Selection with LASSO \n",
    "\n",
    "In this demo, we illustrate the classic technique of LASSO regularization as a feature selection method.\n",
    "You will learn to:\n",
    "\n",
    "* Identify and one-hot code categorical variables\n",
    "* Scale data before processing\n",
    "* Fit a LASSO model \n",
    "* Determine the regularization level with cross-validation\n",
    "* Draw the coefficient path as a function of the regularization level\n",
    "\n",
    "The data for this demo comes from this excellent \n",
    "[Kaggle competition](https://www.kaggle.com/c/house-prices-advanced-regression-techniques) on predicting\n",
    "housing prices.  The data was developed by Dean DeCock at Truman State University in the nice \n",
    "[paper](http://jse.amstat.org/v19n3/decock.pdf).\n",
    "\n",
    "There is another demo in this repository on the Prostate cancer dataset that was used in earlier versions\n",
    "of this class.  But, this dataset somewhat better illustrates the need for feature selection.\n",
    "\n",
    "First, we load the regular packages."
   ]
  },
  {
   "cell_type": "code",
   "execution_count": 1,
   "metadata": {},
   "outputs": [],
   "source": [
    "import pandas as pd\n",
    "import numpy as np\n",
    "import matplotlib.pyplot as plt\n",
    "import matplotlib\n"
   ]
  },
  {
   "cell_type": "markdown",
   "metadata": {},
   "source": [
    "## Downloading and Cleaning the Data"
   ]
  },
  {
   "cell_type": "markdown",
   "metadata": {},
   "source": [
    "On the Kaggle competition site, you can download a train data set (with labels) and a test data set (with no labels).  Here, we will just use the train dataset since it has labels that we can use to assess the results.  Later, we will split that dataset into training and test. "
   ]
  },
  {
   "cell_type": "code",
   "execution_count": 57,
   "metadata": {},
   "outputs": [
    {
     "name": "stdout",
     "output_type": "stream",
     "text": [
      "File housing_train.csv is already downloaded\n"
     ]
    }
   ],
   "source": [
    "fn_src = 'https://raw.githubusercontent.com/sdrangan/introml/master/unit05_lasso/housing_train.csv'\n",
    "fn_dst = 'housing_train.csv'\n",
    "\n",
    "import os\n",
    "from six.moves import urllib\n",
    "\n",
    "if os.path.isfile(fn_dst):\n",
    "    print('File %s is already downloaded' % fn_dst)\n",
    "else:\n",
    "    urllib.request.urlretrieve(fn_src, fn_dst)"
   ]
  },
  {
   "cell_type": "markdown",
   "metadata": {},
   "source": [
    "We then load the file into a pandas dataframe and display the data.  "
   ]
  },
  {
   "cell_type": "code",
   "execution_count": 2,
   "metadata": {},
   "outputs": [
    {
     "data": {
      "text/html": [
       "<div>\n",
       "<style scoped>\n",
       "    .dataframe tbody tr th:only-of-type {\n",
       "        vertical-align: middle;\n",
       "    }\n",
       "\n",
       "    .dataframe tbody tr th {\n",
       "        vertical-align: top;\n",
       "    }\n",
       "\n",
       "    .dataframe thead th {\n",
       "        text-align: right;\n",
       "    }\n",
       "</style>\n",
       "<table border=\"1\" class=\"dataframe\">\n",
       "  <thead>\n",
       "    <tr style=\"text-align: right;\">\n",
       "      <th></th>\n",
       "      <th>Id</th>\n",
       "      <th>MSSubClass</th>\n",
       "      <th>MSZoning</th>\n",
       "      <th>LotFrontage</th>\n",
       "      <th>LotArea</th>\n",
       "      <th>Street</th>\n",
       "      <th>Alley</th>\n",
       "      <th>LotShape</th>\n",
       "      <th>LandContour</th>\n",
       "      <th>Utilities</th>\n",
       "      <th>...</th>\n",
       "      <th>PoolArea</th>\n",
       "      <th>PoolQC</th>\n",
       "      <th>Fence</th>\n",
       "      <th>MiscFeature</th>\n",
       "      <th>MiscVal</th>\n",
       "      <th>MoSold</th>\n",
       "      <th>YrSold</th>\n",
       "      <th>SaleType</th>\n",
       "      <th>SaleCondition</th>\n",
       "      <th>SalePrice</th>\n",
       "    </tr>\n",
       "  </thead>\n",
       "  <tbody>\n",
       "    <tr>\n",
       "      <th>0</th>\n",
       "      <td>1</td>\n",
       "      <td>60</td>\n",
       "      <td>RL</td>\n",
       "      <td>65.0</td>\n",
       "      <td>8450</td>\n",
       "      <td>Pave</td>\n",
       "      <td>NaN</td>\n",
       "      <td>Reg</td>\n",
       "      <td>Lvl</td>\n",
       "      <td>AllPub</td>\n",
       "      <td>...</td>\n",
       "      <td>0</td>\n",
       "      <td>NaN</td>\n",
       "      <td>NaN</td>\n",
       "      <td>NaN</td>\n",
       "      <td>0</td>\n",
       "      <td>2</td>\n",
       "      <td>2008</td>\n",
       "      <td>WD</td>\n",
       "      <td>Normal</td>\n",
       "      <td>208500</td>\n",
       "    </tr>\n",
       "    <tr>\n",
       "      <th>1</th>\n",
       "      <td>2</td>\n",
       "      <td>20</td>\n",
       "      <td>RL</td>\n",
       "      <td>80.0</td>\n",
       "      <td>9600</td>\n",
       "      <td>Pave</td>\n",
       "      <td>NaN</td>\n",
       "      <td>Reg</td>\n",
       "      <td>Lvl</td>\n",
       "      <td>AllPub</td>\n",
       "      <td>...</td>\n",
       "      <td>0</td>\n",
       "      <td>NaN</td>\n",
       "      <td>NaN</td>\n",
       "      <td>NaN</td>\n",
       "      <td>0</td>\n",
       "      <td>5</td>\n",
       "      <td>2007</td>\n",
       "      <td>WD</td>\n",
       "      <td>Normal</td>\n",
       "      <td>181500</td>\n",
       "    </tr>\n",
       "    <tr>\n",
       "      <th>2</th>\n",
       "      <td>3</td>\n",
       "      <td>60</td>\n",
       "      <td>RL</td>\n",
       "      <td>68.0</td>\n",
       "      <td>11250</td>\n",
       "      <td>Pave</td>\n",
       "      <td>NaN</td>\n",
       "      <td>IR1</td>\n",
       "      <td>Lvl</td>\n",
       "      <td>AllPub</td>\n",
       "      <td>...</td>\n",
       "      <td>0</td>\n",
       "      <td>NaN</td>\n",
       "      <td>NaN</td>\n",
       "      <td>NaN</td>\n",
       "      <td>0</td>\n",
       "      <td>9</td>\n",
       "      <td>2008</td>\n",
       "      <td>WD</td>\n",
       "      <td>Normal</td>\n",
       "      <td>223500</td>\n",
       "    </tr>\n",
       "    <tr>\n",
       "      <th>3</th>\n",
       "      <td>4</td>\n",
       "      <td>70</td>\n",
       "      <td>RL</td>\n",
       "      <td>60.0</td>\n",
       "      <td>9550</td>\n",
       "      <td>Pave</td>\n",
       "      <td>NaN</td>\n",
       "      <td>IR1</td>\n",
       "      <td>Lvl</td>\n",
       "      <td>AllPub</td>\n",
       "      <td>...</td>\n",
       "      <td>0</td>\n",
       "      <td>NaN</td>\n",
       "      <td>NaN</td>\n",
       "      <td>NaN</td>\n",
       "      <td>0</td>\n",
       "      <td>2</td>\n",
       "      <td>2006</td>\n",
       "      <td>WD</td>\n",
       "      <td>Abnorml</td>\n",
       "      <td>140000</td>\n",
       "    </tr>\n",
       "    <tr>\n",
       "      <th>4</th>\n",
       "      <td>5</td>\n",
       "      <td>60</td>\n",
       "      <td>RL</td>\n",
       "      <td>84.0</td>\n",
       "      <td>14260</td>\n",
       "      <td>Pave</td>\n",
       "      <td>NaN</td>\n",
       "      <td>IR1</td>\n",
       "      <td>Lvl</td>\n",
       "      <td>AllPub</td>\n",
       "      <td>...</td>\n",
       "      <td>0</td>\n",
       "      <td>NaN</td>\n",
       "      <td>NaN</td>\n",
       "      <td>NaN</td>\n",
       "      <td>0</td>\n",
       "      <td>12</td>\n",
       "      <td>2008</td>\n",
       "      <td>WD</td>\n",
       "      <td>Normal</td>\n",
       "      <td>250000</td>\n",
       "    </tr>\n",
       "  </tbody>\n",
       "</table>\n",
       "<p>5 rows × 81 columns</p>\n",
       "</div>"
      ],
      "text/plain": [
       "   Id  MSSubClass MSZoning  LotFrontage  LotArea Street Alley LotShape  \\\n",
       "0   1          60       RL         65.0     8450   Pave   NaN      Reg   \n",
       "1   2          20       RL         80.0     9600   Pave   NaN      Reg   \n",
       "2   3          60       RL         68.0    11250   Pave   NaN      IR1   \n",
       "3   4          70       RL         60.0     9550   Pave   NaN      IR1   \n",
       "4   5          60       RL         84.0    14260   Pave   NaN      IR1   \n",
       "\n",
       "  LandContour Utilities  ... PoolArea PoolQC Fence MiscFeature MiscVal MoSold  \\\n",
       "0         Lvl    AllPub  ...        0    NaN   NaN         NaN       0      2   \n",
       "1         Lvl    AllPub  ...        0    NaN   NaN         NaN       0      5   \n",
       "2         Lvl    AllPub  ...        0    NaN   NaN         NaN       0      9   \n",
       "3         Lvl    AllPub  ...        0    NaN   NaN         NaN       0      2   \n",
       "4         Lvl    AllPub  ...        0    NaN   NaN         NaN       0     12   \n",
       "\n",
       "  YrSold  SaleType  SaleCondition  SalePrice  \n",
       "0   2008        WD         Normal     208500  \n",
       "1   2007        WD         Normal     181500  \n",
       "2   2008        WD         Normal     223500  \n",
       "3   2006        WD        Abnorml     140000  \n",
       "4   2008        WD         Normal     250000  \n",
       "\n",
       "[5 rows x 81 columns]"
      ]
     },
     "execution_count": 2,
     "metadata": {},
     "output_type": "execute_result"
    }
   ],
   "source": [
    "df = pd.read_csv('housing_train.csv')\n",
    "df.head()"
   ]
  },
  {
   "cell_type": "markdown",
   "metadata": {},
   "source": [
    "We print the number of attributes and samples.  We see that there are a large number of attributes for each home sale."
   ]
  },
  {
   "cell_type": "code",
   "execution_count": 3,
   "metadata": {},
   "outputs": [
    {
     "name": "stdout",
     "output_type": "stream",
     "text": [
      "Number samples = 1460\n",
      "Number attributes per sample = 81\n"
     ]
    }
   ],
   "source": [
    "nsamp, natt = df.shape\n",
    "print('Number samples = %d' % nsamp)\n",
    "print('Number attributes per sample = %d' % natt)"
   ]
  },
  {
   "cell_type": "markdown",
   "metadata": {},
   "source": [
    "Before we proceed, we need to remove the columns with missing values. We see that we remove about 19 attributes."
   ]
  },
  {
   "cell_type": "code",
   "execution_count": 4,
   "metadata": {},
   "outputs": [
    {
     "name": "stdout",
     "output_type": "stream",
     "text": [
      "Number samples = 1460\n",
      "Number attributes per sample = 62\n"
     ]
    }
   ],
   "source": [
    "df = df.dropna(axis=1) #drop columns with at least one missing value (not the best idea but simplest)\n",
    "\n",
    "nsamp, natt = df.shape\n",
    "print('Number samples = %d' % nsamp)\n",
    "print('Number attributes per sample = %d' % natt)\n"
   ]
  },
  {
   "cell_type": "markdown",
   "metadata": {},
   "source": [
    "It is suggested in DeCock's [paper](http://jse.amstat.org/v19n3/decock.pdf), that to make the regression easier, we remove all the entries where the `SaleCondition` was not normal.  We do this with the following code which should leave us with 1198 samples."
   ]
  },
  {
   "cell_type": "code",
   "execution_count": 5,
   "metadata": {},
   "outputs": [
    {
     "name": "stdout",
     "output_type": "stream",
     "text": [
      "Number samples = 1198\n",
      "Number attributes per sample = 62\n"
     ]
    }
   ],
   "source": [
    "df = df.loc[df['SaleCondition'] == 'Normal']\n",
    "\n",
    "nsamp, natt = df.shape\n",
    "print('Number samples = %d' % nsamp)\n",
    "print('Number attributes per sample = %d' % natt)"
   ]
  },
  {
   "cell_type": "markdown",
   "metadata": {},
   "source": [
    "## One-Hot Coding the Categorical Variables\n",
    "\n",
    "You will see there are a large number of variables that are *categorical* meaning they are one of a few discrete values.  \n",
    "We can use the `df.dtypes` to get the type of each variable.  Categorial variables have type `object`.  "
   ]
  },
  {
   "cell_type": "code",
   "execution_count": 6,
   "metadata": {},
   "outputs": [
    {
     "name": "stdout",
     "output_type": "stream",
     "text": [
      "Id                int64\n",
      "MSSubClass        int64\n",
      "MSZoning         object\n",
      "LotArea           int64\n",
      "Street           object\n",
      "                  ...  \n",
      "MoSold            int64\n",
      "YrSold            int64\n",
      "SaleType         object\n",
      "SaleCondition    object\n",
      "SalePrice         int64\n",
      "Length: 62, dtype: object\n"
     ]
    }
   ],
   "source": [
    "print(df.dtypes)"
   ]
  },
  {
   "cell_type": "markdown",
   "metadata": {},
   "source": [
    "We want to one hot code all the categorical variables.  As a first step, a first list `cat_vars` with all the categorical variables and `real_vars` with the real variables (i.e. non-categorical).   In both lists we do not include the variables `ignore_vars` which include the index, month of the sale or sales price (the sales price) will be used as the target."
   ]
  },
  {
   "cell_type": "code",
   "execution_count": 7,
   "metadata": {},
   "outputs": [
    {
     "name": "stdout",
     "output_type": "stream",
     "text": [
      "Categorical variables = ['MSZoning', 'Street', 'LotShape', 'LandContour', 'Utilities', 'LotConfig', 'LandSlope', 'Neighborhood', 'Condition1', 'Condition2', 'BldgType', 'HouseStyle', 'RoofStyle', 'RoofMatl', 'Exterior1st', 'Exterior2nd', 'ExterQual', 'ExterCond', 'Foundation', 'Heating', 'HeatingQC', 'CentralAir', 'KitchenQual', 'Functional', 'PavedDrive', 'SaleType', 'SaleCondition']\n",
      "\n",
      "Real variables = ['MSSubClass', 'LotArea', 'OverallQual', 'OverallCond', 'YearBuilt', 'YearRemodAdd', 'BsmtFinSF1', 'BsmtFinSF2', 'BsmtUnfSF', 'TotalBsmtSF', '1stFlrSF', '2ndFlrSF', 'LowQualFinSF', 'GrLivArea', 'BsmtFullBath', 'BsmtHalfBath', 'FullBath', 'HalfBath', 'BedroomAbvGr', 'KitchenAbvGr', 'TotRmsAbvGrd', 'Fireplaces', 'GarageCars', 'GarageArea', 'WoodDeckSF', 'OpenPorchSF', 'EnclosedPorch', '3SsnPorch', 'ScreenPorch', 'PoolArea', 'MiscVal', 'YrSold']\n"
     ]
    }
   ],
   "source": [
    "# Remove the ID, month sold and sales price (it is the target)\n",
    "ignore_vars = ['Id', 'MoSold', 'SalePrice']\n",
    "\n",
    "# Find real and categorical variables\n",
    "cols = df.columns\n",
    "cat_vars = []\n",
    "real_vars = []\n",
    "\n",
    "for col in cols:\n",
    "    \n",
    "    if not (col in ignore_vars):\n",
    "        if df.dtypes[col]  == 'object':\n",
    "            cat_vars.append(col)\n",
    "        else:\n",
    "            real_vars.append(col)\n",
    "                \n",
    "print('Categorical variables = ' + str(cat_vars))\n",
    "print('')\n",
    "print('Real variables = ' + str(real_vars))"
   ]
  },
  {
   "cell_type": "markdown",
   "metadata": {},
   "source": [
    "We next one-hot coded categorical variables.  To do this, we use the `pd.get_dummies` command to convert the categorical variables to one hot coded items.   We use the `drop_first=True` to replace each category with `k` values to `k-1` variables.  This removes linearly dependent columns."
   ]
  },
  {
   "cell_type": "code",
   "execution_count": 9,
   "metadata": {},
   "outputs": [],
   "source": [
    "# Get the dataframes with real and categorical variables\n",
    "df_real = df[real_vars]\n",
    "df_cat = df[cat_vars]\n",
    "\n",
    "# One-hot encode the categorical variables\n",
    "df_cat_enc = pd.get_dummies(df_cat, drop_first=True)"
   ]
  },
  {
   "cell_type": "markdown",
   "metadata": {},
   "source": [
    "To see how the one hot coding worked, we print out the original categorical table, `df_cat` and the one hot coded variables `df_cat_enc`.  Observe how a variable like `MSZoning` is converted to multiple columns like `MSZoning_C`, `MSZoning_FV`, ..., `MSZoning_RM` corresponding to each possible value.  "
   ]
  },
  {
   "cell_type": "code",
   "execution_count": 10,
   "metadata": {},
   "outputs": [
    {
     "data": {
      "text/html": [
       "<div>\n",
       "<style scoped>\n",
       "    .dataframe tbody tr th:only-of-type {\n",
       "        vertical-align: middle;\n",
       "    }\n",
       "\n",
       "    .dataframe tbody tr th {\n",
       "        vertical-align: top;\n",
       "    }\n",
       "\n",
       "    .dataframe thead th {\n",
       "        text-align: right;\n",
       "    }\n",
       "</style>\n",
       "<table border=\"1\" class=\"dataframe\">\n",
       "  <thead>\n",
       "    <tr style=\"text-align: right;\">\n",
       "      <th></th>\n",
       "      <th>MSZoning</th>\n",
       "      <th>Street</th>\n",
       "      <th>LotShape</th>\n",
       "      <th>LandContour</th>\n",
       "      <th>Utilities</th>\n",
       "      <th>LotConfig</th>\n",
       "      <th>LandSlope</th>\n",
       "      <th>Neighborhood</th>\n",
       "      <th>Condition1</th>\n",
       "      <th>Condition2</th>\n",
       "      <th>...</th>\n",
       "      <th>ExterCond</th>\n",
       "      <th>Foundation</th>\n",
       "      <th>Heating</th>\n",
       "      <th>HeatingQC</th>\n",
       "      <th>CentralAir</th>\n",
       "      <th>KitchenQual</th>\n",
       "      <th>Functional</th>\n",
       "      <th>PavedDrive</th>\n",
       "      <th>SaleType</th>\n",
       "      <th>SaleCondition</th>\n",
       "    </tr>\n",
       "  </thead>\n",
       "  <tbody>\n",
       "    <tr>\n",
       "      <th>0</th>\n",
       "      <td>RL</td>\n",
       "      <td>Pave</td>\n",
       "      <td>Reg</td>\n",
       "      <td>Lvl</td>\n",
       "      <td>AllPub</td>\n",
       "      <td>Inside</td>\n",
       "      <td>Gtl</td>\n",
       "      <td>CollgCr</td>\n",
       "      <td>Norm</td>\n",
       "      <td>Norm</td>\n",
       "      <td>...</td>\n",
       "      <td>TA</td>\n",
       "      <td>PConc</td>\n",
       "      <td>GasA</td>\n",
       "      <td>Ex</td>\n",
       "      <td>Y</td>\n",
       "      <td>Gd</td>\n",
       "      <td>Typ</td>\n",
       "      <td>Y</td>\n",
       "      <td>WD</td>\n",
       "      <td>Normal</td>\n",
       "    </tr>\n",
       "    <tr>\n",
       "      <th>1</th>\n",
       "      <td>RL</td>\n",
       "      <td>Pave</td>\n",
       "      <td>Reg</td>\n",
       "      <td>Lvl</td>\n",
       "      <td>AllPub</td>\n",
       "      <td>FR2</td>\n",
       "      <td>Gtl</td>\n",
       "      <td>Veenker</td>\n",
       "      <td>Feedr</td>\n",
       "      <td>Norm</td>\n",
       "      <td>...</td>\n",
       "      <td>TA</td>\n",
       "      <td>CBlock</td>\n",
       "      <td>GasA</td>\n",
       "      <td>Ex</td>\n",
       "      <td>Y</td>\n",
       "      <td>TA</td>\n",
       "      <td>Typ</td>\n",
       "      <td>Y</td>\n",
       "      <td>WD</td>\n",
       "      <td>Normal</td>\n",
       "    </tr>\n",
       "    <tr>\n",
       "      <th>2</th>\n",
       "      <td>RL</td>\n",
       "      <td>Pave</td>\n",
       "      <td>IR1</td>\n",
       "      <td>Lvl</td>\n",
       "      <td>AllPub</td>\n",
       "      <td>Inside</td>\n",
       "      <td>Gtl</td>\n",
       "      <td>CollgCr</td>\n",
       "      <td>Norm</td>\n",
       "      <td>Norm</td>\n",
       "      <td>...</td>\n",
       "      <td>TA</td>\n",
       "      <td>PConc</td>\n",
       "      <td>GasA</td>\n",
       "      <td>Ex</td>\n",
       "      <td>Y</td>\n",
       "      <td>Gd</td>\n",
       "      <td>Typ</td>\n",
       "      <td>Y</td>\n",
       "      <td>WD</td>\n",
       "      <td>Normal</td>\n",
       "    </tr>\n",
       "    <tr>\n",
       "      <th>4</th>\n",
       "      <td>RL</td>\n",
       "      <td>Pave</td>\n",
       "      <td>IR1</td>\n",
       "      <td>Lvl</td>\n",
       "      <td>AllPub</td>\n",
       "      <td>FR2</td>\n",
       "      <td>Gtl</td>\n",
       "      <td>NoRidge</td>\n",
       "      <td>Norm</td>\n",
       "      <td>Norm</td>\n",
       "      <td>...</td>\n",
       "      <td>TA</td>\n",
       "      <td>PConc</td>\n",
       "      <td>GasA</td>\n",
       "      <td>Ex</td>\n",
       "      <td>Y</td>\n",
       "      <td>Gd</td>\n",
       "      <td>Typ</td>\n",
       "      <td>Y</td>\n",
       "      <td>WD</td>\n",
       "      <td>Normal</td>\n",
       "    </tr>\n",
       "    <tr>\n",
       "      <th>5</th>\n",
       "      <td>RL</td>\n",
       "      <td>Pave</td>\n",
       "      <td>IR1</td>\n",
       "      <td>Lvl</td>\n",
       "      <td>AllPub</td>\n",
       "      <td>Inside</td>\n",
       "      <td>Gtl</td>\n",
       "      <td>Mitchel</td>\n",
       "      <td>Norm</td>\n",
       "      <td>Norm</td>\n",
       "      <td>...</td>\n",
       "      <td>TA</td>\n",
       "      <td>Wood</td>\n",
       "      <td>GasA</td>\n",
       "      <td>Ex</td>\n",
       "      <td>Y</td>\n",
       "      <td>TA</td>\n",
       "      <td>Typ</td>\n",
       "      <td>Y</td>\n",
       "      <td>WD</td>\n",
       "      <td>Normal</td>\n",
       "    </tr>\n",
       "  </tbody>\n",
       "</table>\n",
       "<p>5 rows × 27 columns</p>\n",
       "</div>"
      ],
      "text/plain": [
       "  MSZoning Street LotShape LandContour Utilities LotConfig LandSlope  \\\n",
       "0       RL   Pave      Reg         Lvl    AllPub    Inside       Gtl   \n",
       "1       RL   Pave      Reg         Lvl    AllPub       FR2       Gtl   \n",
       "2       RL   Pave      IR1         Lvl    AllPub    Inside       Gtl   \n",
       "4       RL   Pave      IR1         Lvl    AllPub       FR2       Gtl   \n",
       "5       RL   Pave      IR1         Lvl    AllPub    Inside       Gtl   \n",
       "\n",
       "  Neighborhood Condition1 Condition2  ... ExterCond Foundation Heating  \\\n",
       "0      CollgCr       Norm       Norm  ...        TA      PConc    GasA   \n",
       "1      Veenker      Feedr       Norm  ...        TA     CBlock    GasA   \n",
       "2      CollgCr       Norm       Norm  ...        TA      PConc    GasA   \n",
       "4      NoRidge       Norm       Norm  ...        TA      PConc    GasA   \n",
       "5      Mitchel       Norm       Norm  ...        TA       Wood    GasA   \n",
       "\n",
       "  HeatingQC CentralAir KitchenQual Functional PavedDrive SaleType  \\\n",
       "0        Ex          Y          Gd        Typ          Y       WD   \n",
       "1        Ex          Y          TA        Typ          Y       WD   \n",
       "2        Ex          Y          Gd        Typ          Y       WD   \n",
       "4        Ex          Y          Gd        Typ          Y       WD   \n",
       "5        Ex          Y          TA        Typ          Y       WD   \n",
       "\n",
       "  SaleCondition  \n",
       "0        Normal  \n",
       "1        Normal  \n",
       "2        Normal  \n",
       "4        Normal  \n",
       "5        Normal  \n",
       "\n",
       "[5 rows x 27 columns]"
      ]
     },
     "execution_count": 10,
     "metadata": {},
     "output_type": "execute_result"
    }
   ],
   "source": [
    "df_cat.head()"
   ]
  },
  {
   "cell_type": "code",
   "execution_count": 11,
   "metadata": {},
   "outputs": [
    {
     "data": {
      "text/html": [
       "<div>\n",
       "<style scoped>\n",
       "    .dataframe tbody tr th:only-of-type {\n",
       "        vertical-align: middle;\n",
       "    }\n",
       "\n",
       "    .dataframe tbody tr th {\n",
       "        vertical-align: top;\n",
       "    }\n",
       "\n",
       "    .dataframe thead th {\n",
       "        text-align: right;\n",
       "    }\n",
       "</style>\n",
       "<table border=\"1\" class=\"dataframe\">\n",
       "  <thead>\n",
       "    <tr style=\"text-align: right;\">\n",
       "      <th></th>\n",
       "      <th>MSZoning_FV</th>\n",
       "      <th>MSZoning_RH</th>\n",
       "      <th>MSZoning_RL</th>\n",
       "      <th>MSZoning_RM</th>\n",
       "      <th>Street_Pave</th>\n",
       "      <th>LotShape_IR2</th>\n",
       "      <th>LotShape_IR3</th>\n",
       "      <th>LotShape_Reg</th>\n",
       "      <th>LandContour_HLS</th>\n",
       "      <th>LandContour_Low</th>\n",
       "      <th>...</th>\n",
       "      <th>Functional_Mod</th>\n",
       "      <th>Functional_Typ</th>\n",
       "      <th>PavedDrive_P</th>\n",
       "      <th>PavedDrive_Y</th>\n",
       "      <th>SaleType_CWD</th>\n",
       "      <th>SaleType_Con</th>\n",
       "      <th>SaleType_ConLD</th>\n",
       "      <th>SaleType_ConLI</th>\n",
       "      <th>SaleType_ConLw</th>\n",
       "      <th>SaleType_WD</th>\n",
       "    </tr>\n",
       "  </thead>\n",
       "  <tbody>\n",
       "    <tr>\n",
       "      <th>0</th>\n",
       "      <td>0</td>\n",
       "      <td>0</td>\n",
       "      <td>1</td>\n",
       "      <td>0</td>\n",
       "      <td>1</td>\n",
       "      <td>0</td>\n",
       "      <td>0</td>\n",
       "      <td>1</td>\n",
       "      <td>0</td>\n",
       "      <td>0</td>\n",
       "      <td>...</td>\n",
       "      <td>0</td>\n",
       "      <td>1</td>\n",
       "      <td>0</td>\n",
       "      <td>1</td>\n",
       "      <td>0</td>\n",
       "      <td>0</td>\n",
       "      <td>0</td>\n",
       "      <td>0</td>\n",
       "      <td>0</td>\n",
       "      <td>1</td>\n",
       "    </tr>\n",
       "    <tr>\n",
       "      <th>1</th>\n",
       "      <td>0</td>\n",
       "      <td>0</td>\n",
       "      <td>1</td>\n",
       "      <td>0</td>\n",
       "      <td>1</td>\n",
       "      <td>0</td>\n",
       "      <td>0</td>\n",
       "      <td>1</td>\n",
       "      <td>0</td>\n",
       "      <td>0</td>\n",
       "      <td>...</td>\n",
       "      <td>0</td>\n",
       "      <td>1</td>\n",
       "      <td>0</td>\n",
       "      <td>1</td>\n",
       "      <td>0</td>\n",
       "      <td>0</td>\n",
       "      <td>0</td>\n",
       "      <td>0</td>\n",
       "      <td>0</td>\n",
       "      <td>1</td>\n",
       "    </tr>\n",
       "    <tr>\n",
       "      <th>2</th>\n",
       "      <td>0</td>\n",
       "      <td>0</td>\n",
       "      <td>1</td>\n",
       "      <td>0</td>\n",
       "      <td>1</td>\n",
       "      <td>0</td>\n",
       "      <td>0</td>\n",
       "      <td>0</td>\n",
       "      <td>0</td>\n",
       "      <td>0</td>\n",
       "      <td>...</td>\n",
       "      <td>0</td>\n",
       "      <td>1</td>\n",
       "      <td>0</td>\n",
       "      <td>1</td>\n",
       "      <td>0</td>\n",
       "      <td>0</td>\n",
       "      <td>0</td>\n",
       "      <td>0</td>\n",
       "      <td>0</td>\n",
       "      <td>1</td>\n",
       "    </tr>\n",
       "    <tr>\n",
       "      <th>4</th>\n",
       "      <td>0</td>\n",
       "      <td>0</td>\n",
       "      <td>1</td>\n",
       "      <td>0</td>\n",
       "      <td>1</td>\n",
       "      <td>0</td>\n",
       "      <td>0</td>\n",
       "      <td>0</td>\n",
       "      <td>0</td>\n",
       "      <td>0</td>\n",
       "      <td>...</td>\n",
       "      <td>0</td>\n",
       "      <td>1</td>\n",
       "      <td>0</td>\n",
       "      <td>1</td>\n",
       "      <td>0</td>\n",
       "      <td>0</td>\n",
       "      <td>0</td>\n",
       "      <td>0</td>\n",
       "      <td>0</td>\n",
       "      <td>1</td>\n",
       "    </tr>\n",
       "    <tr>\n",
       "      <th>5</th>\n",
       "      <td>0</td>\n",
       "      <td>0</td>\n",
       "      <td>1</td>\n",
       "      <td>0</td>\n",
       "      <td>1</td>\n",
       "      <td>0</td>\n",
       "      <td>0</td>\n",
       "      <td>0</td>\n",
       "      <td>0</td>\n",
       "      <td>0</td>\n",
       "      <td>...</td>\n",
       "      <td>0</td>\n",
       "      <td>1</td>\n",
       "      <td>0</td>\n",
       "      <td>1</td>\n",
       "      <td>0</td>\n",
       "      <td>0</td>\n",
       "      <td>0</td>\n",
       "      <td>0</td>\n",
       "      <td>0</td>\n",
       "      <td>1</td>\n",
       "    </tr>\n",
       "  </tbody>\n",
       "</table>\n",
       "<p>5 rows × 142 columns</p>\n",
       "</div>"
      ],
      "text/plain": [
       "   MSZoning_FV  MSZoning_RH  MSZoning_RL  MSZoning_RM  Street_Pave  \\\n",
       "0            0            0            1            0            1   \n",
       "1            0            0            1            0            1   \n",
       "2            0            0            1            0            1   \n",
       "4            0            0            1            0            1   \n",
       "5            0            0            1            0            1   \n",
       "\n",
       "   LotShape_IR2  LotShape_IR3  LotShape_Reg  LandContour_HLS  LandContour_Low  \\\n",
       "0             0             0             1                0                0   \n",
       "1             0             0             1                0                0   \n",
       "2             0             0             0                0                0   \n",
       "4             0             0             0                0                0   \n",
       "5             0             0             0                0                0   \n",
       "\n",
       "   ...  Functional_Mod  Functional_Typ  PavedDrive_P  PavedDrive_Y  \\\n",
       "0  ...               0               1             0             1   \n",
       "1  ...               0               1             0             1   \n",
       "2  ...               0               1             0             1   \n",
       "4  ...               0               1             0             1   \n",
       "5  ...               0               1             0             1   \n",
       "\n",
       "   SaleType_CWD  SaleType_Con  SaleType_ConLD  SaleType_ConLI  SaleType_ConLw  \\\n",
       "0             0             0               0               0               0   \n",
       "1             0             0               0               0               0   \n",
       "2             0             0               0               0               0   \n",
       "4             0             0               0               0               0   \n",
       "5             0             0               0               0               0   \n",
       "\n",
       "   SaleType_WD  \n",
       "0            1  \n",
       "1            1  \n",
       "2            1  \n",
       "4            1  \n",
       "5            1  \n",
       "\n",
       "[5 rows x 142 columns]"
      ]
     },
     "execution_count": 11,
     "metadata": {},
     "output_type": "execute_result"
    }
   ],
   "source": [
    "df_cat_enc.head()"
   ]
  },
  {
   "cell_type": "markdown",
   "metadata": {},
   "source": [
    "To get the data matrix, we then concatanate the real and encoded categorical tables and convert to an array.  We see there are now 214 attributes."
   ]
  },
  {
   "cell_type": "code",
   "execution_count": 12,
   "metadata": {},
   "outputs": [
    {
     "name": "stdout",
     "output_type": "stream",
     "text": [
      "(1198, 174)\n"
     ]
    }
   ],
   "source": [
    "df_enc = pd.concat((df_real, df_cat_enc), axis=1)\n",
    "X = np.array(df_enc)\n",
    "print(X.shape)\n",
    "\n",
    "xnames = df_enc.columns"
   ]
  },
  {
   "cell_type": "markdown",
   "metadata": {},
   "source": [
    "To get the target we extract the sales price."
   ]
  },
  {
   "cell_type": "code",
   "execution_count": 13,
   "metadata": {},
   "outputs": [],
   "source": [
    "y = np.array(df['SalePrice'])\n"
   ]
  },
  {
   "cell_type": "markdown",
   "metadata": {},
   "source": [
    "## Scaling the Data\n",
    "\n",
    "We will try to fit a model with simple linear regression.   We first split the data into training and test."
   ]
  },
  {
   "cell_type": "code",
   "execution_count": 14,
   "metadata": {},
   "outputs": [],
   "source": [
    "from sklearn.model_selection import train_test_split\n",
    "\n",
    "Xtr, Xts, ytr, yts = train_test_split(X,y,test_size=0.3)"
   ]
  },
  {
   "cell_type": "markdown",
   "metadata": {},
   "source": [
    "A feature of this data is that the attributes have very different ranges of values.  Many methods below expect that the variables have similar ranges.  For this purpose we use sklearn's `StandardScaler` which removes the mean from each column and divides by the standard deviation.  We fit the parameters for the scaler on the training data and then apply the transform to the training and test data.\n",
    "\n",
    "Technically, we do not need to scale the output, but it will make the variables easier to interpret."
   ]
  },
  {
   "cell_type": "code",
   "execution_count": 15,
   "metadata": {},
   "outputs": [],
   "source": [
    "from sklearn.preprocessing import StandardScaler\n",
    "\n",
    "# Create the scaler objects\n",
    "xscal = StandardScaler()\n",
    "yscal = StandardScaler()\n",
    "\n",
    "# Fit and transform the training data\n",
    "Xtr1 = xscal.fit_transform(Xtr)\n",
    "ytr1 = yscal.fit_transform(ytr[:,None])\n",
    "\n",
    "# Transform the test data\n",
    "Xts1 = xscal.transform(Xts)\n",
    "yts1 = yscal.transform(yts[:,None])"
   ]
  },
  {
   "cell_type": "markdown",
   "metadata": {},
   "source": [
    "## Linear Regression without Regualarization\n",
    "\n",
    "We first fit the model with linear regression on the scaled training data.  Then, we predict on the test data and measure the R^2 value.  We get a terrible fit."
   ]
  },
  {
   "cell_type": "code",
   "execution_count": 16,
   "metadata": {},
   "outputs": [
    {
     "name": "stdout",
     "output_type": "stream",
     "text": [
      "Training R^2 =   9.5393e-01\n",
      "Test R^2     =  -1.1193e+20\n"
     ]
    }
   ],
   "source": [
    "from sklearn.linear_model import LinearRegression, Ridge\n",
    "from sklearn.metrics import r2_score\n",
    "\n",
    "# Fit\n",
    "reg_ls = LinearRegression()\n",
    "reg_ls.fit(Xtr1, ytr1)\n",
    "\n",
    "# Training R^2\n",
    "yhat1_tr = reg_ls.predict(Xtr1)\n",
    "rsq_tr = r2_score(yhat1_tr, ytr1)\n",
    "print('Training R^2 = %12.4e' % rsq_tr)\n",
    "\n",
    "# Test R^2\n",
    "yhat1_ts = reg_ls.predict(Xts1)\n",
    "rsq_ts = r2_score(yts1, yhat1_ts)\n",
    "print('Test R^2     = %12.4e' % rsq_ts)\n",
    "\n",
    "\n"
   ]
  },
  {
   "cell_type": "markdown",
   "metadata": {},
   "source": [
    "We get a terrible fit.  The reason is that the matrix is ill-conditioned, meaning some of the columns in the data matrix `Xtr` are linearly dependent.  We can get a better fit if we use a method called *Ridge regression*.  Ridge regression is a type of regularization that we will discuss later, but we will use it here simply to improve the conditioning.  \n",
    "\n",
    "To understand Ridge regression, recall that the solution of the LS problem is:\n",
    "\n",
    "    beta = inv(A.T.dot(A)).dot(A.T.dot(y))\n",
    "    \n",
    "The problem occurs when the matrix, `A.T.dot(A)` has eigenvalues close to zero so the inverse blows up.  To avoid, Ridge regression instead computes,\n",
    "\n",
    "    beta = inv(A.T.dot(A) + n*alpha*eye(n)).dot(A.T.dot(y))\n",
    "\n",
    "where `n` is the number of data samples and `alpha` is a small value to keep the eigenvalues positive.  Ridge regression can be performed as follows."
   ]
  },
  {
   "cell_type": "code",
   "execution_count": 17,
   "metadata": {},
   "outputs": [
    {
     "name": "stdout",
     "output_type": "stream",
     "text": [
      "Test R^2     = 0.794361\n"
     ]
    }
   ],
   "source": [
    "reg_ls = Ridge(alpha=1e-5)\n",
    "reg_ls.fit(Xtr1, ytr1)\n",
    "yhat1 = reg_ls.predict(Xts1)\n",
    "rsq = r2_score(yts1, yhat1)\n",
    "print('Test R^2     = %f' % rsq)"
   ]
  },
  {
   "cell_type": "markdown",
   "metadata": {},
   "source": [
    "We see we get a good fit.  We can also plot the actual vs. predicted values.  To do this, we convert the predicted targets back to the original scaling with the `inverse_transform` method in the scaler."
   ]
  },
  {
   "cell_type": "code",
   "execution_count": 18,
   "metadata": {},
   "outputs": [
    {
     "data": {
      "text/plain": [
       "Text(0, 0.5, 'Actual')"
      ]
     },
     "execution_count": 18,
     "metadata": {},
     "output_type": "execute_result"
    },
    {
     "data": {
      "image/png": "[encoded data removed]",
      "text/plain": [
       "<Figure size 432x288 with 1 Axes>"
      ]
     },
     "metadata": {
      "needs_background": "light"
     },
     "output_type": "display_data"
    }
   ],
   "source": [
    "yhat = yscal.inverse_transform(yhat1)\n",
    "\n",
    "yline = np.array([0, np.max(yts)])\n",
    "plt.plot(yhat, yts, 'o')\n",
    "plt.plot(yline, yline)\n",
    "plt.grid()\n",
    "plt.xlabel('Predicted')\n",
    "plt.ylabel('Actual')\n",
    "\n"
   ]
  },
  {
   "cell_type": "markdown",
   "metadata": {},
   "source": [
    "To understand which variables are important, we may find the variables with the largest coefficients.  We see that the among the top 10 coefficients, attributes such as square footage (SF) and quality dominate."
   ]
  },
  {
   "cell_type": "code",
   "execution_count": 19,
   "metadata": {},
   "outputs": [
    {
     "name": "stdout",
     "output_type": "stream",
     "text": [
      " Exterior1st_CemntBd 0.265422\n",
      "         MSZoning_RL 0.259826\n",
      "           GrLivArea 0.238964\n",
      " Exterior2nd_CmentBd -0.231779\n",
      "         MSZoning_RM 0.216605\n",
      "      KitchenQual_TA -0.214658\n",
      "      KitchenQual_Gd -0.197348\n",
      "            2ndFlrSF 0.171502\n",
      "           YearBuilt 0.167901\n",
      "        ExterQual_TA -0.139696\n"
     ]
    }
   ],
   "source": [
    "coeff_ls = reg_ls.coef_.ravel()\n",
    "nprint = 10\n",
    "I = np.argsort(np.abs(coeff_ls))\n",
    "I = np.flipud(I)\n",
    "for i in range(nprint):\n",
    "    j = I[i]\n",
    "    print('%20s %f' % (xnames[j], coeff_ls[j]) )"
   ]
  },
  {
   "cell_type": "markdown",
   "metadata": {},
   "source": [
    "We can also try to find the variables that do not matter.  But, this is harder since it appears that most coefficients are non-zero. We can see this from both the stem plot (left) and the sorted coefficients (right).  It is hard to discard any coefficients."
   ]
  },
  {
   "cell_type": "code",
   "execution_count": 31,
   "metadata": {},
   "outputs": [
    {
     "data": {
      "image/png": "[encoded data removed]",
      "text/plain": [
       "<Figure size 720x360 with 2 Axes>"
      ]
     },
     "metadata": {
      "needs_background": "light"
     },
     "output_type": "display_data"
    }
   ],
   "source": [
    "plt.figure(figsize=(10,5))\n",
    "plt.subplot(1,2,1)\n",
    "plt.stem(coeff_ls, use_line_collection=True)\n",
    "plt.xlabel('Variable index')\n",
    "plt.ylabel('Coeff')\n",
    "plt.grid()\n",
    "\n",
    "\n",
    "plt.subplot(1,2,2)\n",
    "coeff_sort_ls = np.flipud(np.sort(np.abs(coeff_ls)))\n",
    "plt.plot(coeff_sort_ls)\n",
    "plt.xlabel('Sorted var index')\n",
    "plt.ylabel('Coeff Mag')\n",
    "plt.grid()\n",
    "plt.tight_layout()\n",
    "\n"
   ]
  },
  {
   "cell_type": "markdown",
   "metadata": {},
   "source": [
    "*In-class exercise*:  Re-train the model with the variables with the largest 50 values in `coeff_ls`.  What is the test R^2?"
   ]
  },
  {
   "cell_type": "code",
   "execution_count": 34,
   "metadata": {},
   "outputs": [
    {
     "name": "stdout",
     "output_type": "stream",
     "text": [
      "Test R^2     = 0.793943\n"
     ]
    }
   ],
   "source": [
    "# TODO\n",
    "# reg_ls = LinearRegression()\n",
    "reg_ls.fit(Xtr1[:,I[:50]], ytr1)\n",
    "yhat1 = reg_ls.predict(Xts1[:,I[:50]])\n",
    "rsq = r2_score(yts1, yhat1)\n",
    "print('Test R^2     = %f' % rsq)"
   ]
  },
  {
   "cell_type": "markdown",
   "metadata": {},
   "source": [
    "## Lasso Regression\n",
    "\n",
    "One method to perform the feature selection is called *Lasso* regression where you minimize an objective of the form:\n",
    "\n",
    "     betahat = argmin (1/2/n)*\\| y - A.dot(beta) \\|^2 + alpha * \\| beta \\|_1\n",
    "     \n",
    "The term `\\| beta \\|_1 = \\sum_j |beta[j]|` is called the *regularizer* and the scaling `alpha` is the regularization level.  When `alpha=0` we get the regular least squares fit.  But, as we take higher values of `alpha` we force the fit to find more *sparse* solutions meaning solutions with larger number of terms with `beta[j]=0`.  \n",
    "\n",
    "We can perform Lasso regression with the `Lasso` method in sklearn as follows."
   ]
  },
  {
   "cell_type": "code",
   "execution_count": 35,
   "metadata": {},
   "outputs": [
    {
     "name": "stdout",
     "output_type": "stream",
     "text": [
      "Test R^2= 0.821074\n"
     ]
    }
   ],
   "source": [
    "from sklearn.linear_model import Lasso\n",
    "from warnings import simplefilter\n",
    "from sklearn.exceptions import ConvergenceWarning\n",
    "simplefilter(\"ignore\", category=ConvergenceWarning)\n",
    "\n",
    "# Select alpha\n",
    "alpha = 3e-3\n",
    "\n",
    "# Create Lasso object and fit on training data\n",
    "reg = Lasso(alpha=alpha)\n",
    "reg.fit(Xtr1, ytr1)\n",
    "\n",
    "# Predict and score on test\n",
    "yhat1 = reg.predict(Xts1)\n",
    "rsq = r2_score(yts1, yhat1)\n",
    "\n",
    "print('Test R^2= %f' % rsq)"
   ]
  },
  {
   "cell_type": "markdown",
   "metadata": {},
   "source": [
    "We see we get a slightly higher R^2 value.  We can also plot the coefficients and we see we have many more small coefficients in comparison to the linear regression with minimal regularization that we did before.  This means the model is, in effect, using a smaller number of variables."
   ]
  },
  {
   "cell_type": "code",
   "execution_count": 36,
   "metadata": {},
   "outputs": [
    {
     "data": {
      "image/png": "[encoded data removed]",
      "text/plain": [
       "<Figure size 720x360 with 2 Axes>"
      ]
     },
     "metadata": {
      "needs_background": "light"
     },
     "output_type": "display_data"
    }
   ],
   "source": [
    "coeff_lasso = reg.coef_.ravel()\n",
    "\n",
    "plt.figure(figsize=(10,5))\n",
    "plt.subplot(1,2,1)\n",
    "plt.stem(coeff_lasso, use_line_collection=True)\n",
    "plt.xlabel('Variable index')\n",
    "plt.ylabel('Coeff')\n",
    "plt.grid()\n",
    "\n",
    "\n",
    "plt.subplot(1,2,2)\n",
    "coeff_sort_lasso = np.flipud(np.sort(np.abs(coeff_lasso)))\n",
    "plt.plot(coeff_sort_lasso)\n",
    "plt.plot(coeff_sort_ls)\n",
    "plt.xlabel('Sorted var index')\n",
    "plt.ylabel('Coeff Mag')\n",
    "plt.grid()\n",
    "plt.legend(['Lasso, alpha=3e-3', 'Ridge 1e-5'])\n",
    "plt.tight_layout()"
   ]
  },
  {
   "cell_type": "markdown",
   "metadata": {},
   "source": [
    "The value of `alpha` is typically selected via cross validation just as we did in model selection.  The following code performs cross validation with `nfold=10` folds.  For each fold, try a number of `alpha` values."
   ]
  },
  {
   "cell_type": "code",
   "execution_count": 37,
   "metadata": {},
   "outputs": [
    {
     "name": "stdout",
     "output_type": "stream",
     "text": [
      "Fold = 0\n",
      "Fold = 1\n",
      "Fold = 2\n",
      "Fold = 3\n",
      "Fold = 4\n",
      "Fold = 5\n",
      "Fold = 6\n",
      "Fold = 7\n",
      "Fold = 8\n",
      "Fold = 9\n"
     ]
    }
   ],
   "source": [
    "# Create cross-validation object\n",
    "from sklearn.model_selection import KFold\n",
    "nfold = 10\n",
    "kf =KFold(nfold, shuffle=True)\n",
    "\n",
    "# Alpha values to test\n",
    "alphas = np.logspace(-6,-1,40)\n",
    "nalpha = len(alphas)\n",
    "\n",
    "# Run the cross-validation\n",
    "rsq = np.zeros((nalpha, nfold))\n",
    "for ifold, ind in enumerate(kf.split(X)):\n",
    "        \n",
    "    # Get the training data in the split\n",
    "    Itr,Its = ind\n",
    "    Xtr = X[Itr,:]\n",
    "    ytr = y[Itr]\n",
    "    Xts = X[Its,:]\n",
    "    yts = y[Its]\n",
    "    \n",
    "    # Fit and transform the data\n",
    "    Xtr1 = xscal.fit_transform(Xtr)\n",
    "    Xts1 = xscal.transform(Xts)\n",
    "    ytr1 = yscal.fit_transform(ytr[:,None])\n",
    "    yts1 = yscal.transform(yts[:,None])\n",
    "\n",
    "    for i, alpha in enumerate(alphas):\n",
    "\n",
    "        # Fit on the training data\n",
    "        reg = Lasso(alpha=alpha)\n",
    "        reg.fit(Xtr1, ytr1)\n",
    "\n",
    "        # Score on the test data\n",
    "        yhat1 = reg.predict(Xts1)\n",
    "        rsq[i, ifold] = r2_score(yts1, yhat1)\n",
    "    \n",
    "    print('Fold = %d' % ifold)\n",
    "    \n",
    "# Compute mean and SE\n",
    "rsq_lasso_mean = np.mean(rsq, axis=1)\n",
    "rsq_lasso_se  = np.std(rsq, axis=1) / np.sqrt(nfold-1)"
   ]
  },
  {
   "cell_type": "markdown",
   "metadata": {},
   "source": [
    "We can then plot the mean and SE as a function of alpha.  "
   ]
  },
  {
   "cell_type": "code",
   "execution_count": 38,
   "metadata": {},
   "outputs": [
    {
     "data": {
      "image/png": "[encoded data removed]",
      "text/plain": [
       "<Figure size 432x288 with 1 Axes>"
      ]
     },
     "metadata": {
      "needs_background": "light"
     },
     "output_type": "display_data"
    }
   ],
   "source": [
    "plt.errorbar(np.log10(alphas), rsq_lasso_mean, yerr=rsq_lasso_se)\n",
    "plt.xlabel('log10(alpha)')\n",
    "plt.ylabel('Test R^2')\n",
    "plt.grid()\n",
    "plt.show()"
   ]
  },
  {
   "cell_type": "markdown",
   "metadata": {},
   "source": [
    "We see that there is an alpha value that maximizes the R^2. Below this value we overfit and above this we overfit. The code below selects the alpha using the normal rule (maximum mean test R^2)."
   ]
  },
  {
   "cell_type": "code",
   "execution_count": 39,
   "metadata": {},
   "outputs": [
    {
     "name": "stdout",
     "output_type": "stream",
     "text": [
      "Alpha optimal (normal rule) =   3.8882e-03\n",
      "Mean test R^2 (normal rule) =   0.909\n"
     ]
    }
   ],
   "source": [
    "im = np.argmax(rsq_lasso_mean)\n",
    "alpha_normal = alphas[im]\n",
    "print('Alpha optimal (normal rule) = %12.4e' % alpha_normal)\n",
    "print('Mean test R^2 (normal rule) = %7.3f' % rsq_lasso_mean[im])\n"
   ]
  },
  {
   "cell_type": "markdown",
   "metadata": {},
   "source": [
    "We can then retrain the model at this value of alpha and plots the coefficients.  In comparison to Ridge regression with minimal regularization, we have many coefficients that are zero."
   ]
  },
  {
   "cell_type": "code",
   "execution_count": 40,
   "metadata": {},
   "outputs": [
    {
     "data": {
      "image/png": "[encoded data removed]",
      "text/plain": [
       "<Figure size 720x360 with 2 Axes>"
      ]
     },
     "metadata": {
      "needs_background": "light"
     },
     "output_type": "display_data"
    }
   ],
   "source": [
    "# Fit on the entire data\n",
    "reg = Lasso(alpha=alpha_normal)\n",
    "reg.fit(Xtr1, ytr1)\n",
    "\n",
    "# Plot the normalized coefficients\n",
    "coeff_lasso_norm = reg.coef_.ravel()\n",
    "\n",
    "plt.figure(figsize=(10,5))\n",
    "plt.subplot(1,2,1)\n",
    "plt.stem(coeff_lasso_norm, use_line_collection=True)\n",
    "plt.xlabel('Variable index')\n",
    "plt.ylabel('Coeff')\n",
    "plt.grid()\n",
    "\n",
    "\n",
    "plt.subplot(1,2,2)\n",
    "coeff_sort_norm = np.flipud(np.sort(np.abs(coeff_lasso_norm)))\n",
    "plt.plot(coeff_sort_norm)\n",
    "plt.plot(coeff_sort_ls)\n",
    "plt.xlabel('Sorted var index')\n",
    "plt.ylabel('Coeff Mag')\n",
    "plt.grid()\n",
    "plt.legend(['Lasso, normal rule', 'Ridge 1e-5'])\n",
    "plt.tight_layout()"
   ]
  },
  {
   "cell_type": "markdown",
   "metadata": {},
   "source": [
    "We can get an even more sparse solution using the one SE rule where we select the maximum alpha that achieves the maximum R^2 within one SE."
   ]
  },
  {
   "cell_type": "code",
   "execution_count": 41,
   "metadata": {},
   "outputs": [
    {
     "name": "stdout",
     "output_type": "stream",
     "text": [
      "Alpha optimal (one SE rule) =   9.4267e-03\n",
      "Mean test R^2 (one SE rule) =   0.903\n"
     ]
    }
   ],
   "source": [
    "# Target R^2\n",
    "im = np.argmax(rsq_lasso_mean)\n",
    "rsq_tgt = rsq_lasso_mean[im] - rsq_lasso_se[im]\n",
    "\n",
    "# Find the least complex model with R^2 > rsq_tgt\n",
    "I = np.where(rsq_lasso_mean >= rsq_tgt)[0]\n",
    "iopt = I[-1]\n",
    "alpha_onese = alphas[iopt]\n",
    "\n",
    "print('Alpha optimal (one SE rule) = %12.4e' % alpha_onese)\n",
    "print('Mean test R^2 (one SE rule) = %7.3f' % rsq_lasso_mean[iopt])"
   ]
  },
  {
   "cell_type": "markdown",
   "metadata": {},
   "source": [
    "We can now plot the coefficients for the one SE rule.  We see that the coefficients are slightly more sparse than the normal rule. "
   ]
  },
  {
   "cell_type": "code",
   "execution_count": 42,
   "metadata": {},
   "outputs": [
    {
     "name": "stdout",
     "output_type": "stream",
     "text": [
      "Optimal alpha = 0.009427\n"
     ]
    },
    {
     "data": {
      "image/png": "[encoded data removed]",
      "text/plain": [
       "<Figure size 720x360 with 2 Axes>"
      ]
     },
     "metadata": {
      "needs_background": "light"
     },
     "output_type": "display_data"
    }
   ],
   "source": [
    "\n",
    "\n",
    "\n",
    "# Fit on the entire data\n",
    "reg = Lasso(alpha=alpha_onese)\n",
    "reg.fit(Xtr1, ytr1)\n",
    "\n",
    "# Plot the normalized coefficients\n",
    "coeff_lasso_onese = reg.coef_.ravel()\n",
    "\n",
    "plt.figure(figsize=(10,5))\n",
    "plt.subplot(1,2,1)\n",
    "plt.stem(coeff_lasso_onese, use_line_collection=True)\n",
    "plt.xlabel('Variable index')\n",
    "plt.ylabel('Coeff')\n",
    "plt.grid()\n",
    "\n",
    "\n",
    "plt.subplot(1,2,2)\n",
    "coeff_sort_onese = np.flipud(np.sort(np.abs(coeff_lasso_onese)))\n",
    "plt.plot(coeff_sort_onese)\n",
    "plt.plot(coeff_sort_norm)\n",
    "plt.plot(coeff_sort_ls)\n",
    "plt.xlabel('Sorted var index')\n",
    "plt.ylabel('Coeff Mag')\n",
    "plt.grid()\n",
    "plt.legend(['Lasso, one SE rule', 'Lasso, normal rule', 'Ridge 1e-5'])\n",
    "plt.tight_layout()\n",
    "\n",
    "print(\"Optimal alpha = %f\" % alpha_onese)"
   ]
  },
  {
   "cell_type": "markdown",
   "metadata": {},
   "source": [
    "It is useful to print the variable names of the top 10 coefficients for the original Ridge regression model and the Lasso model with one SE rule.  We see that two area variables (`GrLivArea` and `2ndFlrSF`) have been replaced by one `GrLivArea` with more weight."
   ]
  },
  {
   "cell_type": "code",
   "execution_count": 43,
   "metadata": {},
   "outputs": [
    {
     "name": "stdout",
     "output_type": "stream",
     "text": [
      "Ridge                        | Lasso\n",
      "-----------------------------|--------------------------------\n",
      " Exterior1st_CemntBd    0.27 |             GrLivArea    0.42\n",
      "         MSZoning_RL    0.26 |           OverallQual    0.19\n",
      "           GrLivArea    0.24 |             YearBuilt    0.14\n",
      " Exterior2nd_CmentBd   -0.23 |            BsmtFinSF1    0.11\n",
      "         MSZoning_RM    0.22 |        KitchenQual_TA   -0.11\n",
      "      KitchenQual_TA   -0.21 |        KitchenQual_Gd   -0.11\n",
      "      KitchenQual_Gd   -0.20 |           TotalBsmtSF    0.10\n",
      "            2ndFlrSF    0.17 |          ExterQual_TA   -0.09\n",
      "           YearBuilt    0.17 |           OverallCond    0.08\n",
      "        ExterQual_TA   -0.14 |               LotArea    0.08\n"
     ]
    }
   ],
   "source": [
    "Ils = np.argsort(np.abs(coeff_ls))\n",
    "Ils = np.flipud(Ils)\n",
    "\n",
    "Ilasso = np.argsort(np.abs(coeff_lasso_onese))\n",
    "Ilasso = np.flipud(Ilasso)\n",
    "\n",
    "nprint = 10\n",
    "print('Ridge                        | Lasso')\n",
    "print('-----------------------------|--------------------------------')\n",
    "for i in range(nprint):\n",
    "    jls = Ils[i]\n",
    "    jlasso = Ilasso[i]\n",
    "    print('%20s %7.2f |  %20s %7.2f' % (xnames[jls], coeff_ls[jls], xnames[jlasso], coeff_lasso_onese[jlasso]) )"
   ]
  },
  {
   "cell_type": "markdown",
   "metadata": {},
   "source": [
    "## Ridge Regression\n",
    "\n",
    "An alternate form of regularization is Ridge regression where you select the coefficients with the rule:\n",
    "\n",
    "     betahat = argmin (1/2/n)*\\| y - A.dot(beta) \\|^2 + alpha * \\| beta \\|_2^2\n",
    "     \n",
    "The optimization is similar to Lasso except the regularizer uses the two-norm squared, `\\| beta \\|_2^2` instead of the one-norm, `\\| beta \\|_1`.  This regularizer tends to make coefficients smaller, but not necessarily zero.  \n",
    "\n",
    "We already used Ridge regression above with a small value of alpha for improving the conditioning of the fit.  Here, we can try to optimally select `alpha` with cross-validation."
   ]
  },
  {
   "cell_type": "code",
   "execution_count": 44,
   "metadata": {},
   "outputs": [
    {
     "name": "stdout",
     "output_type": "stream",
     "text": [
      "Fold = 0\n",
      "Fold = 1\n",
      "Fold = 2\n",
      "Fold = 3\n",
      "Fold = 4\n",
      "Fold = 5\n",
      "Fold = 6\n",
      "Fold = 7\n",
      "Fold = 8\n",
      "Fold = 9\n"
     ]
    }
   ],
   "source": [
    "# Create cross-validation object\n",
    "from sklearn.model_selection import KFold\n",
    "nfold = 10\n",
    "kf =KFold(nfold, shuffle=True)\n",
    "\n",
    "# Alpha values to test\n",
    "alphas_ridge = np.logspace(-3,3,40)\n",
    "nalpha = len(alphas)\n",
    "\n",
    "# Run the cross-validation\n",
    "rsq = np.zeros((nalpha, nfold))\n",
    "for ifold, ind in enumerate(kf.split(X)):\n",
    "        \n",
    "    # Get the training data in the split\n",
    "    Itr,Its = ind\n",
    "    Xtr = X[Itr,:]\n",
    "    ytr = y[Itr]\n",
    "    Xts = X[Its,:]\n",
    "    yts = y[Its]\n",
    "    \n",
    "    # Fit and transform the data\n",
    "    Xtr1 = xscal.fit_transform(Xtr)\n",
    "    Xts1 = xscal.transform(Xts)\n",
    "    ytr1 = yscal.fit_transform(ytr[:,None])\n",
    "    yts1 = yscal.transform(yts[:,None])\n",
    "\n",
    "    for i, alpha in enumerate(alphas_ridge):\n",
    "\n",
    "        # Fit on the training data\n",
    "        reg = Ridge(alpha=alpha)\n",
    "        reg.fit(Xtr1, ytr1)\n",
    "\n",
    "        # Score on the test data\n",
    "        yhat1 = reg.predict(Xts1)\n",
    "        rsq[i, ifold] = r2_score(yts1, yhat1)\n",
    "    \n",
    "    print('Fold = %d' % ifold)\n",
    "    \n",
    "# Compute mean and SE\n",
    "rsq_ridge_mean = np.mean(rsq, axis=1)\n",
    "rsq_ridge_se  = np.std(rsq, axis=1) / np.sqrt(nfold-1)\n"
   ]
  },
  {
   "cell_type": "markdown",
   "metadata": {},
   "source": [
    "We can plot the test R^2 value as a function of the alpha values.  We see that the optimal R^2 is slightly higher for Lasso."
   ]
  },
  {
   "cell_type": "code",
   "execution_count": 45,
   "metadata": {},
   "outputs": [
    {
     "data": {
      "image/png": "[encoded data removed]",
      "text/plain": [
       "<Figure size 432x288 with 1 Axes>"
      ]
     },
     "metadata": {
      "needs_background": "light"
     },
     "output_type": "display_data"
    },
    {
     "name": "stdout",
     "output_type": "stream",
     "text": [
      "Optimal R^2 Lasso:  0.908953\n",
      "Optimal R^2 Ridge:  0.894531\n"
     ]
    }
   ],
   "source": [
    "plt.errorbar(np.log10(alphas), rsq_lasso_mean, yerr=rsq_lasso_se)\n",
    "plt.errorbar(np.log10(alphas_ridge), rsq_ridge_mean, yerr=rsq_ridge_se)\n",
    "plt.xlabel('log10(alpha)')\n",
    "plt.ylabel('Test R^2')\n",
    "plt.grid()\n",
    "plt.legend(['Lasso', 'Ridge'], loc='lower right')\n",
    "plt.show()\n",
    "\n",
    "print('Optimal R^2 Lasso:  %f' % np.max(rsq_lasso_mean))\n",
    "print('Optimal R^2 Ridge:  %f' % np.max(rsq_ridge_mean))"
   ]
  },
  {
   "cell_type": "markdown",
   "metadata": {},
   "source": [
    "## LASSO path\n",
    "\n",
    "To further illustrate the effect of regularization, we conclude by drawing the *LASSO path*.  This is simply a plot of the coefficients as a function of the regularization `alpha`.  We do not need to do this for the analysis, but the path demonstrates the effect of regularization well. \n"
   ]
  },
  {
   "cell_type": "code",
   "execution_count": 46,
   "metadata": {},
   "outputs": [],
   "source": [
    "import sklearn.linear_model\n",
    "\n",
    "X1 = xscal.fit_transform(X)\n",
    "y1 = xscal.fit_transform(y[:,None])\n",
    "\n",
    "alphas_path = np.logspace(-5,1,40)\n",
    "alphas1, coeffs, _ = sklearn.linear_model.lasso_path(X1, y1, alphas=alphas_path)"
   ]
  },
  {
   "cell_type": "code",
   "execution_count": 47,
   "metadata": {},
   "outputs": [
    {
     "data": {
      "image/png": "[encoded data removed]",
      "text/plain": [
       "<Figure size 432x288 with 1 Axes>"
      ]
     },
     "metadata": {
      "needs_background": "light"
     },
     "output_type": "display_data"
    }
   ],
   "source": [
    "nplot = 10\n",
    "I = np.argsort(np.abs(coeffs[0,:,-1]))\n",
    "I = np.flipud(I)\n",
    "I = I[:nplot]\n",
    "\n",
    "# Plot the paths of the coefficients\n",
    "coeff_top = coeffs[0,I,:].T\n",
    "plt.semilogx(alphas1,coeff_top)\n",
    "plt.plot(alpha_onese*np.array([1,1]), [-0.3,0.5], '--')\n",
    "plt.grid()\n",
    "plt.legend(xnames[I], bbox_to_anchor=(1.05, 1))\n",
    "plt.xlabel('Alpha')\n",
    "plt.ylabel('Coeff')\n",
    "plt.xlim([1e-5, 10])\n",
    "_ = plt.ylim([-0.3, 0.5])"
   ]
  },
  {
   "cell_type": "markdown",
   "metadata": {},
   "source": [
    "We see that when alpha is selected very high, all the coefficients are zero.  As alpha is reduced, more coefficients become active starting with overall living area (`GrLivArea`) and the overall quality (`Overall quality`)."
   ]
  },
  {
   "cell_type": "code",
   "execution_count": null,
   "metadata": {},
   "outputs": [],
   "source": []
  },
  {
   "cell_type": "code",
   "execution_count": null,
   "metadata": {},
   "outputs": [],
   "source": []
  }
 ],
 "metadata": {
  "kernelspec": {
   "display_name": "Python 3",
   "language": "python",
   "name": "python3"
  },
  "language_info": {
   "codemirror_mode": {
    "name": "ipython",
    "version": 3
   },
   "file_extension": ".py",
   "mimetype": "text/x-python",
   "name": "python",
   "nbconvert_exporter": "python",
   "pygments_lexer": "ipython3",
   "version": "3.8.3"
  }
 },
 "nbformat": 4,
 "nbformat_minor": 4
}
