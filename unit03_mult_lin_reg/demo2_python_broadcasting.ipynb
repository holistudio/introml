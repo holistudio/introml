{
 "cells": [
  {
   "cell_type": "markdown",
   "metadata": {},
   "source": [
    "# Numpy Array Operations:  Axes and Broadcasting \n",
    "\n",
    "There is an excellent introduction to `numpy` multi-dimensional arrays on the [scipy](https://docs.scipy.org/doc/numpy-dev/user/quickstart.html) website.  In this note, we cover two concepts in a little more detail:\n",
    "* Using the `axis` feature \n",
    "* Python broadcasting\n",
    "\n",
    "We will need both of these for performing many of the numerical operations for the ML class.\n",
    "\n",
    "As usual, we begin by loading the `numpy` package."
   ]
  },
  {
   "cell_type": "code",
   "execution_count": 2,
   "metadata": {},
   "outputs": [],
   "source": [
    "import numpy as np"
   ]
  },
  {
   "cell_type": "markdown",
   "metadata": {},
   "source": [
    "## Axis Parameter\n",
    "\n",
    "Many operations in the `numpy` package can take an optional `axis` parameter to specify which dimensions the operation is to be applied.  This is extremely useful for multi-dimensional data.  To illustrate the `axis` parameter, consider a matrix the `(3,2)` array `X` defined as:"
   ]
  },
  {
   "cell_type": "code",
   "execution_count": 3,
   "metadata": {},
   "outputs": [
    {
     "name": "stdout",
     "output_type": "stream",
     "text": [
      "[[0 1]\n",
      " [2 3]\n",
      " [4 5]]\n"
     ]
    }
   ],
   "source": [
    "X = np.arange(6).reshape(3,2)\n",
    "print(X)"
   ]
  },
  {
   "cell_type": "markdown",
   "metadata": {},
   "source": [
    "An operation like `np.mean` or `np.sum` takes the mean or sum of *all* elements in the array. "
   ]
  },
  {
   "cell_type": "code",
   "execution_count": 4,
   "metadata": {},
   "outputs": [
    {
     "name": "stdout",
     "output_type": "stream",
     "text": [
      "2.5\n",
      "15\n"
     ]
    }
   ],
   "source": [
    "print(np.mean(X))\n",
    "print(np.sum(X))"
   ]
  },
  {
   "cell_type": "markdown",
   "metadata": {},
   "source": [
    "To take only the `sum` along each column, we can use the `axis` parameter."
   ]
  },
  {
   "cell_type": "code",
   "execution_count": 5,
   "metadata": {},
   "outputs": [
    {
     "name": "stdout",
     "output_type": "stream",
     "text": [
      "[6 9]\n"
     ]
    }
   ],
   "source": [
    "print(np.sum(X,axis=0)) #sum OVER or ACROSS axis 0, sum OVER rows"
   ]
  },
  {
   "cell_type": "markdown",
   "metadata": {},
   "source": [
    "Since `X` has shape `(3,2)`, the output `np.sum(X,axis=0)` is of shape `(2,)`.  Similarly, we can take the `sum` along each row:"
   ]
  },
  {
   "cell_type": "code",
   "execution_count": 6,
   "metadata": {},
   "outputs": [
    {
     "name": "stdout",
     "output_type": "stream",
     "text": [
      "[1 5 9]\n"
     ]
    }
   ],
   "source": [
    "print(np.sum(X,axis=1)) #sum OVER or ACROSS axis 1, sum OVER columns"
   ]
  },
  {
   "cell_type": "markdown",
   "metadata": {},
   "source": [
    "You can apply this to higher-order arrays:"
   ]
  },
  {
   "cell_type": "code",
   "execution_count": 8,
   "metadata": {},
   "outputs": [
    {
     "name": "stdout",
     "output_type": "stream",
     "text": [
      "X = \n",
      "[[[ 0  1  2  3]\n",
      "  [ 4  5  6  7]\n",
      "  [ 8  9 10 11]]\n",
      "\n",
      " [[12 13 14 15]\n",
      "  [16 17 18 19]\n",
      "  [20 21 22 23]]]\n",
      "Y1 = \n",
      "[[12 14 16 18]\n",
      " [20 22 24 26]\n",
      " [28 30 32 34]]\n",
      "Y2 = \n",
      "[[12 15 18 21]\n",
      " [48 51 54 57]]\n"
     ]
    }
   ],
   "source": [
    "X = np.arange(24).reshape(2,3,4)  # shape = (2,3,4)\n",
    "print('X = ')\n",
    "print(X)\n",
    "Y1 = np.sum(X,axis=0)             # shape = (3,4)\n",
    "Y2 = np.sum(X,axis=1)             # shape = (2,4)\n",
    "print('Y1 = ')\n",
    "print(Y1)\n",
    "print('Y2 = ')\n",
    "print(Y2)"
   ]
  },
  {
   "cell_type": "markdown",
   "metadata": {},
   "source": [
    "## Broadcasting\n",
    "\n",
    "**Broadcasting** is a powerful tool in Python for performing operations on matrices that we will use throughout the ML class.  A good tutorial on broadcasting can be found on the [scipy broadcasting page](https://docs.scipy.org/doc/numpy-1.13.0/user/basics.broadcasting.html).  Here we provide some examples.   "
   ]
  },
  {
   "cell_type": "markdown",
   "metadata": {},
   "source": [
    "### Example 1:  Mean Removal\n",
    "\n",
    "Suppose that `X` is a data matrix of shape `(n,p)`.  That is, there are `n` data points and `p` features per point.  Often, we have to remove the mean from each feature.  That is, we want to compute the mean for each feature and then remove the mean from each column.  We could do this with a for-loop as:\n",
    "   \n",
    "    Xm = np.zeros(p)      # Mean for each feature\n",
    "    X1_demean = np.zeros((n,p))  # Transformed features with the means removed\n",
    "    for j in range(p):\n",
    "       Xm[j] = np.mean(X[:,j])\n",
    "       for i in range(n):\n",
    "           X_demean[i,j] = X[i,j] - Xm[j]\n",
    "           \n",
    "The code below does this without a for loop using the `axis` parameter and broadcasting."
   ]
  },
  {
   "cell_type": "code",
   "execution_count": 10,
   "metadata": {},
   "outputs": [
    {
     "name": "stdout",
     "output_type": "stream",
     "text": [
      "[0.52946926 0.48139856 0.53203046 0.52123964 0.53936426]\n",
      "[[0.52946926 0.48139856 0.53203046 0.52123964 0.53936426]]\n"
     ]
    }
   ],
   "source": [
    "# Generate some random data\n",
    "n = 100\n",
    "p = 5\n",
    "X = np.random.rand(n,p)\n",
    "# print(X)\n",
    "# Compute the mean per column using the axis command\n",
    "Xm = np.mean(X,axis=0)  # This is a p-dim matrix\n",
    "print(Xm)\n",
    "# Subtract the mean\n",
    "X_demean = X - Xm[None,:]\n",
    "print(Xm[None,:])"
   ]
  },
  {
   "cell_type": "code",
   "execution_count": 12,
   "metadata": {},
   "outputs": [
    {
     "name": "stdout",
     "output_type": "stream",
     "text": [
      "(100, 5)\n",
      "(5,)\n",
      "(1, 5)\n",
      "[0.52946926 0.48139856 0.53203046 0.52123964 0.53936426]\n",
      "[[0.95827639 0.09323092 0.1856503  0.72767171 0.26862247]\n",
      " [0.52494884 0.01418052 0.70846877 0.45892288 0.87317077]]\n",
      "[[ 0.42880712 -0.38816764 -0.34638016  0.20643207 -0.27074179]\n",
      " [-0.00452043 -0.46721804  0.17643832 -0.06231676  0.33380651]]\n"
     ]
    }
   ],
   "source": [
    "print(X.shape)\n",
    "print(Xm.shape)\n",
    "\n",
    "Xm1 = Xm[None,:] # in add/subtraction the values are repeated over rows\n",
    "print(Xm1.shape)\n",
    "\n",
    "print(Xm[:])\n",
    "print(X[:2,:])\n",
    "print(X_demean[:2,:])"
   ]
  },
  {
   "cell_type": "markdown",
   "metadata": {},
   "source": [
    "The command `Xm = np.mean(X,axis=0)` computes the mean of each column which is a `p` dimensional array.  Then, `Xm[None,:]` converts this to a `(1,p)` shape array.  Using Python broadcasting, we can then subtract the `Xm[None,:]` from `X`."
   ]
  },
  {
   "cell_type": "markdown",
   "metadata": {},
   "source": [
    "### Example 2:  Standardizing variables\n",
    "\n",
    "A variant of the above example is to *standardize* the features, where we compute the transform variables,\n",
    "\n",
    "    Z[i,j] = (X[i,j] - Xm[j])/ Xstd[j]\n",
    "    \n",
    "where `Xstd[j]` is the standard deviation per feature.  This can be done as follows:"
   ]
  },
  {
   "cell_type": "code",
   "execution_count": 8,
   "metadata": {},
   "outputs": [],
   "source": [
    "Xstd = np.std(X,axis=0)\n",
    "Z = (X-Xm[None,:])/Xstd[None,:]"
   ]
  },
  {
   "cell_type": "markdown",
   "metadata": {},
   "source": [
    "### Example 3:  Distances\n",
    "\n",
    "Here is a more complicated example.  Suppose we have a data matrix `X` of shape `(nx,p)` and a second set of points, `Y` of shape `(ny,p)`. For each `i` and `j`, we want to compute the distances, \n",
    "\n",
    "     d[i,j] = np.sum((X[i,:] - Y[j,:])**2)\n",
    "     \n",
    "This represents the distances between the vectors `X[i,:]` and `Y[j,:]`.  This sort of computation is used for clustering and nearest neighbors.  We can do this without a for loop as follows"
   ]
  },
  {
   "cell_type": "code",
   "execution_count": 6,
   "metadata": {},
   "outputs": [],
   "source": [
    "# Some random data\n",
    "nx = 100\n",
    "ny = 10\n",
    "p = 2\n",
    "X = np.random.rand(nx,p)\n",
    "Y = np.random.rand(ny,p)\n",
    "\n",
    "# Computing the distances in two lines.  No for loop!\n",
    "DXY = X[:,None,:]-Y[None,:,:]\n",
    "d = np.sum(DXY**2,axis=2)"
   ]
  },
  {
   "cell_type": "markdown",
   "metadata": {},
   "source": [
    "How does this work? First, we use `None` keyword to reshape the matrices `X` and `Y` to compatible sizes\n",
    "\n",
    "     X[:,None,:]    # Shape nx,  1, p\n",
    "     Y[None,:,:]    # Shape 1,  ny, p\n",
    "     \n",
    "The two matrices can be subtracted so that\n",
    "\n",
    "     DXY[i,j,k]  = X[i,k] - Y[j,k]\n",
    "     \n",
    "Then, `d[i,j] = sum_k (X[i,k] - Y[j,k])**2`, which is the norm squared of the vector differences."
   ]
  },
  {
   "cell_type": "markdown",
   "metadata": {},
   "source": [
    "### Example 4:  Outer product\n",
    "\n",
    "The *outer product* of vectors `x` and `y` is the matrix `Z[i,j] = x[i]y[j]`.  This can be performed in one line as follows"
   ]
  },
  {
   "cell_type": "code",
   "execution_count": 7,
   "metadata": {},
   "outputs": [],
   "source": [
    "# Some random data\n",
    "nx = 100\n",
    "ny = 10\n",
    "x = np.random.rand(nx)\n",
    "y = np.random.rand(ny)\n",
    "\n",
    "# Compute the outer product in one line\n",
    "Z = x[:,None]*y[None,:]\n"
   ]
  },
  {
   "cell_type": "markdown",
   "metadata": {},
   "source": [
    "Here:\n",
    "\n",
    "     x[:,None] # Has shape (nx,  1)\n",
    "     y[None,:] # Has shape ( 1, ny)\n",
    "     \n",
    "So, with python broadcasting:\n",
    "\n",
    "     Z = x[:,None]*y[None,:] # has shape (nx,  ny)\n"
   ]
  },
  {
   "cell_type": "markdown",
   "metadata": {},
   "source": [
    "**Exercise 1:**  Given a matrix `X`, compute the matrix `Y`, where the rows of `X` are normaized to one.  That is:\n",
    "\n",
    "     Y[i,j] = X[i,j] / sum_j X[i,j]   "
   ]
  },
  {
   "cell_type": "code",
   "execution_count": 15,
   "metadata": {},
   "outputs": [
    {
     "name": "stdout",
     "output_type": "stream",
     "text": [
      "[[0.99782782 0.61384722 0.40002199]\n",
      " [0.9362585  0.96295427 0.09337976]\n",
      " [0.93253395 0.13779524 0.47713183]\n",
      " [0.64553258 0.26045725 0.80407832]]\n",
      "[2.01169704 1.99259254 1.54746101 1.71006815]\n",
      "[[0.49601297 0.305139   0.19884803]\n",
      " [0.46986952 0.48326703 0.04686345]\n",
      " [0.60262193 0.08904602 0.30833205]\n",
      " [0.37748939 0.15230811 0.4702025 ]]\n"
     ]
    }
   ],
   "source": [
    "# sum_j X[i,j],  j varies (column) \n",
    "\n",
    "X = np.random.rand(4,3)\n",
    "print(X)\n",
    "print(np.sum(X,axis=1))\n",
    "Y = X / np.sum(X,axis=1)[:,None]\n",
    "print(Y)"
   ]
  },
  {
   "cell_type": "markdown",
   "metadata": {},
   "source": [
    "**Exercise 2:** Diagonal multiplication.  Given a matrix `X` and a vector `d`, compute `Y = diag(d)*X`."
   ]
  },
  {
   "cell_type": "code",
   "execution_count": 32,
   "metadata": {},
   "outputs": [
    {
     "name": "stdout",
     "output_type": "stream",
     "text": [
      "[[0.27438261 0.4970435  0.10092073]\n",
      " [0.24071213 0.8469178  0.54878106]\n",
      " [0.40363189 0.08469191 0.8347327 ]\n",
      " [0.62036607 0.94958584 0.52787484]\n",
      " [0.53639518 0.9101723  0.09210341]]\n",
      "[[0.50812356 0.         0.         0.         0.        ]\n",
      " [0.         0.20747322 0.         0.         0.        ]\n",
      " [0.         0.         0.25384681 0.         0.        ]\n",
      " [0.         0.         0.         0.18594351 0.        ]\n",
      " [0.         0.         0.         0.         0.45258822]]\n",
      "[[0.13942027 0.25255951 0.0512802 ]\n",
      " [0.04994132 0.17571276 0.11385738]\n",
      " [0.10246067 0.02149877 0.21189424]\n",
      " [0.11535305 0.17656933 0.0981549 ]\n",
      " [0.24276614 0.41193326 0.04168492]]\n",
      "[[0.13942027 0.25255951 0.0512802 ]\n",
      " [0.04994132 0.17571276 0.11385738]\n",
      " [0.10246067 0.02149877 0.21189424]\n",
      " [0.11535305 0.17656933 0.0981549 ]\n",
      " [0.24276614 0.41193326 0.04168492]]\n"
     ]
    }
   ],
   "source": [
    "X = np.random.rand(5,3)\n",
    "d = np.random.rand(5)\n",
    "print(X)\n",
    "Dd = np.diag(d)\n",
    "print(Dd)\n",
    "Y = np.sum(Dd[:,:,None]*X[:,None],axis=0)\n",
    "print(Y)\n",
    "print(np.dot(Dd,X))"
   ]
  },
  {
   "cell_type": "code",
   "execution_count": null,
   "metadata": {},
   "outputs": [],
   "source": []
  }
 ],
 "metadata": {
  "anaconda-cloud": {},
  "kernelspec": {
   "display_name": "Python 3",
   "language": "python",
   "name": "python3"
  },
  "language_info": {
   "codemirror_mode": {
    "name": "ipython",
    "version": 3
   },
   "file_extension": ".py",
   "mimetype": "text/x-python",
   "name": "python",
   "nbconvert_exporter": "python",
   "pygments_lexer": "ipython3",
   "version": "3.8.3"
  }
 },
 "nbformat": 4,
 "nbformat_minor": 4
}
