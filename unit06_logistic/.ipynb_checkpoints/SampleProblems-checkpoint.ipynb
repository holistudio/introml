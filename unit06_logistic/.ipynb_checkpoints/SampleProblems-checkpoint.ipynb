{
 "cells": [
  {
   "cell_type": "code",
   "execution_count": 6,
   "metadata": {},
   "outputs": [
    {
     "name": "stdout",
     "output_type": "stream",
     "text": [
      "(6, 2)\n"
     ]
    },
    {
     "data": {
      "image/png": "[encoded data removed]",
      "text/plain": [
       "<Figure size 432x288 with 1 Axes>"
      ]
     },
     "metadata": {
      "needs_background": "light"
     },
     "output_type": "display_data"
    }
   ],
   "source": [
    "import numpy as np\n",
    "import matplotlib\n",
    "import matplotlib.pyplot as plt\n",
    "import pandas as pd\n",
    "from sklearn import datasets, linear_model, preprocessing\n",
    "\n",
    "x1 = np.array([1,1,2,2,3,4]);\n",
    "x2 = np.array([1,3,2,3,2,1]);\n",
    "X = np.vstack((x1,x2)).T;\n",
    "print(X.shape)\n",
    "y = np.array([0,0,1,1,0,1]);\n",
    "\n",
    "Izero = y==0;\n",
    "Ione = y==1;\n",
    "\n",
    "plt.plot(x1[Izero],x2[Izero],'r.')\n",
    "plt.plot(x1[Ione],x2[Ione],'g.')\n",
    "plt.xlabel('x1');\n",
    "plt.ylabel('x2');"
   ]
  },
  {
   "cell_type": "code",
   "execution_count": 20,
   "metadata": {},
   "outputs": [],
   "source": [
    "def classify(X):\n",
    "    w=np.array([-0.67,-0.75,1]);\n",
    "    z=w[0]+np.sum(X*w[None, 1:],axis=1);\n",
    "    yhat = (z>=0).astype(int);\n",
    "    return yhat;\n"
   ]
  },
  {
   "cell_type": "code",
   "execution_count": 21,
   "metadata": {},
   "outputs": [
    {
     "name": "stdout",
     "output_type": "stream",
     "text": [
      "[0 1 0 1 0 0]\n",
      "0.5\n"
     ]
    }
   ],
   "source": [
    "yhat = classify(X);\n",
    "print(yhat)\n",
    "print(np.mean((yhat==y).astype(int)))"
   ]
  }
 ],
 "metadata": {
  "kernelspec": {
   "display_name": "Python 3",
   "language": "python",
   "name": "python3"
  },
  "language_info": {
   "codemirror_mode": {
    "name": "ipython",
    "version": 3
   },
   "file_extension": ".py",
   "mimetype": "text/x-python",
   "name": "python",
   "nbconvert_exporter": "python",
   "pygments_lexer": "ipython3",
   "version": "3.8.3"
  }
 },
 "nbformat": 4,
 "nbformat_minor": 4
}
